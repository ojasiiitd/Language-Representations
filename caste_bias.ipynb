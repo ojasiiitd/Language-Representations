{
 "cells": [
  {
   "cell_type": "code",
   "execution_count": 7,
   "metadata": {},
   "outputs": [
    {
     "data": {
      "text/plain": [
       "<module 'precog_utils' from '/Users/ojasvasaxena/Desktop/Research/Precog_Hiring/precog_utils.py'>"
      ]
     },
     "execution_count": 7,
     "metadata": {},
     "output_type": "execute_result"
    }
   ],
   "source": [
    "import io\n",
    "import importlib\n",
    "import numpy as np\n",
    "from tqdm import tqdm\n",
    "import precog_utils\n",
    "from collections import defaultdict\n",
    "import torch\n",
    "\n",
    "importlib.reload(precog_utils)"
   ]
  },
  {
   "cell_type": "code",
   "execution_count": 8,
   "metadata": {},
   "outputs": [],
   "source": [
    "def load_vectors(fname):\n",
    "    fin = io.open(fname, 'r', encoding='utf-8', newline='\\n', errors='ignore')\n",
    "    n, d = map(int, fin.readline().split())  # header (vocab size, dim)\n",
    "    data = {}\n",
    "    for line in fin:\n",
    "        tokens = line.rstrip().split(' ')\n",
    "        # convert to numpy array\n",
    "        data[tokens[0]] = np.array(list(map(float , tokens[1:])))\n",
    "    return data\n",
    "\n",
    "# load embeddings\n",
    "fasttext_en = load_vectors(\"Embeddings/fasttext_en.vec\")  # English FastText .vec file"
   ]
  },
  {
   "cell_type": "code",
   "execution_count": 9,
   "metadata": {},
   "outputs": [
    {
     "name": "stdout",
     "output_type": "stream",
     "text": [
      "Similarity(nurse, woman): 0.5777\n",
      "Similarity(nurse, man): 0.4437\n"
     ]
    }
   ],
   "source": [
    "w_nurse = precog_utils.get_fasttext_embedding(\"nurse\" , fasttext_en)\n",
    "w_man = precog_utils.get_fasttext_embedding(\"man\" , fasttext_en)\n",
    "w_woman = precog_utils.get_fasttext_embedding(\"woman\" , fasttext_en)\n",
    "\n",
    "# Example: Checking association between 'nurse' and gendered words\n",
    "print(f\"Similarity(nurse, woman): {precog_utils.cosine_similarity(w_nurse , w_woman):.4f}\")\n",
    "print(f\"Similarity(nurse, man): {precog_utils.cosine_similarity(w_nurse , w_man):.4f}\")"
   ]
  },
  {
   "cell_type": "code",
   "execution_count": 10,
   "metadata": {},
   "outputs": [
    {
     "name": "stdout",
     "output_type": "stream",
     "text": [
      "0.2145\n",
      "0.1669\n"
     ]
    }
   ],
   "source": [
    "w_harm = precog_utils.get_fasttext_embedding(\"Dalit\" , fasttext_en)\n",
    "w_comp1 = precog_utils.get_fasttext_embedding(\"dirty\" , fasttext_en)\n",
    "w_comp2 = precog_utils.get_fasttext_embedding(\"clean\" , fasttext_en)\n",
    "\n",
    "# Example: Checking association between 'nurse' and gendered words\n",
    "print(f\"{precog_utils.cosine_similarity(w_harm , w_comp1):.4f}\")\n",
    "print(f\"{precog_utils.cosine_similarity(w_harm , w_comp2):.4f}\")"
   ]
  },
  {
   "cell_type": "code",
   "execution_count": 11,
   "metadata": {},
   "outputs": [],
   "source": [
    "nouns = [\"caste\", \"Brahmin\", \"Dalit\", \"tribal\", \"Shudra\", \"Savarna\", \"Avarna\"]\n",
    "\n",
    "qualities = [\"pure\", \"dirty\", \"appealing\" , \"repulsive\" , \"peaceful\", \"violent\", \"intelligent\", \"uneducated\", \"rich\", \"poor\", \"successful\", \"failure\", \"honest\", \"criminals\" , \"beautiful\" , \"ugly\"]\n",
    "\n",
    "pos_adj = [\"pure\" , \"appealing\" , \"peaceful\" , \"intelligent\" , \"rich\" , \"successful\" , \"honest\" , \"beautiful\"]\n",
    "neg_adj = ['criminals' , 'dirty' , 'failure' , 'poor' , 'repulsive' , 'ugly' , 'uneducated' , 'violent']"
   ]
  },
  {
   "cell_type": "code",
   "execution_count": 12,
   "metadata": {},
   "outputs": [
    {
     "name": "stdout",
     "output_type": "stream",
     "text": [
      "---\n",
      "caste\n",
      "['pure', 'intelligent', 'rich']\n",
      "---\n",
      "Brahmin\n",
      "['pure', 'rich', 'intelligent']\n",
      "---\n",
      "Dalit\n",
      "['rich', 'pure', 'intelligent']\n",
      "---\n",
      "tribal\n",
      "['pure', 'peaceful', 'beautiful']\n",
      "---\n",
      "Shudra\n",
      "['rich', 'honest', 'pure']\n",
      "---\n",
      "Savarna\n",
      "['pure', 'peaceful', 'rich']\n",
      "---\n",
      "Avarna\n",
      "['beautiful', 'pure', 'rich']\n"
     ]
    }
   ],
   "source": [
    "pos_adj_associations = defaultdict()\n",
    "for w_noun in nouns:\n",
    "    print(\"---\")\n",
    "    print(w_noun)\n",
    "    if w_noun in fasttext_en:\n",
    "        pos_adj_associations[w_noun] = []\n",
    "    else:\n",
    "        print(\"no word vector exists in FastText-En\")\n",
    "    \n",
    "    similarities = []\n",
    "    for q in pos_adj:\n",
    "        similarities.append( (q , precog_utils.cosine_similarity( fasttext_en.get(w_noun) , fasttext_en.get(q))) )\n",
    "\n",
    "    pos_adj_associations[w_noun] = sorted(similarities , key=lambda x:x[1] , reverse=True)\n",
    "\n",
    "    print([item[0] for item in pos_adj_associations[w_noun]][:3])"
   ]
  },
  {
   "cell_type": "code",
   "execution_count": 13,
   "metadata": {},
   "outputs": [
    {
     "name": "stdout",
     "output_type": "stream",
     "text": [
      "---\n",
      "caste\n",
      "['uneducated', 'criminals', 'poor']\n",
      "---\n",
      "Brahmin\n",
      "['uneducated', 'poor', 'criminals']\n",
      "---\n",
      "Dalit\n",
      "['poor', 'uneducated', 'criminals']\n",
      "---\n",
      "tribal\n",
      "['violent', 'uneducated', 'dirty']\n",
      "---\n",
      "Shudra\n",
      "['uneducated', 'poor', 'dirty']\n",
      "---\n",
      "Savarna\n",
      "['uneducated', 'violent', 'criminals']\n",
      "---\n",
      "Avarna\n",
      "['uneducated', 'repulsive', 'poor']\n"
     ]
    }
   ],
   "source": [
    "neg_adj_associations = defaultdict()\n",
    "for w_noun in nouns:\n",
    "    print(\"---\")\n",
    "    print(w_noun)\n",
    "    if w_noun in fasttext_en:\n",
    "        neg_adj_associations[w_noun] = []\n",
    "    else:\n",
    "        print(\"no word vector exists in FastText-En\")\n",
    "    \n",
    "    similarities = []\n",
    "    for q in neg_adj:\n",
    "        similarities.append( (q , precog_utils.cosine_similarity( fasttext_en.get(w_noun) , fasttext_en.get(q))) )\n",
    "\n",
    "    neg_adj_associations[w_noun] = sorted(similarities , key=lambda x:x[1] , reverse=True)\n",
    "\n",
    "    print([item[0] for item in neg_adj_associations[w_noun]][:3])"
   ]
  },
  {
   "cell_type": "markdown",
   "metadata": {},
   "source": [
    "### T-Test\n",
    ">`Null Hypothesis (H0) = The positive adjectives are used similarly for word A  and  word B . That is, their mean cosine similarities are statistically equal: muA = muB`\n",
    "\n",
    ">`Alternate Hypothesis (H1) = The positive adjectives are used differently for word A  and  word B . That is, their mean cosine similarities are statistically unequal: statistically, muA ≠ muB`\n",
    "\n",
    ">`If  p < 0.05 , reject  H0 , meaning H1 is significant.`"
   ]
  },
  {
   "cell_type": "code",
   "execution_count": 14,
   "metadata": {},
   "outputs": [],
   "source": [
    "brahmin_sim_pos = [item[1] for item in pos_adj_associations[\"Brahmin\"]]\n",
    "dalit_sim_pos = [item[1] for item in pos_adj_associations[\"Dalit\"]]\n",
    "\n",
    "brahmin_sim_pos = [item[1] for item in pos_adj_associations[\"Brahmin\"]]\n",
    "tribal_sim_pos = [item[1] for item in pos_adj_associations[\"tribal\"]]\n",
    "\n",
    "savarna_sim_pos = [item[1] for item in pos_adj_associations[\"Savarna\"]]\n",
    "avarna_sim_pos = [item[1] for item in pos_adj_associations[\"Avarna\"]]"
   ]
  },
  {
   "cell_type": "code",
   "execution_count": 15,
   "metadata": {},
   "outputs": [
    {
     "name": "stdout",
     "output_type": "stream",
     "text": [
      "Paired t-test: t=1.8690, p=0.1038\n",
      "Paired t-test: t=-6.0057, p=0.0005\n",
      "Paired t-test: t=-3.7913, p=0.0068\n"
     ]
    }
   ],
   "source": [
    "from scipy.stats import ttest_rel\n",
    "\n",
    "t_stat, p_value = ttest_rel(brahmin_sim_pos , dalit_sim_pos)\n",
    "print(f\"Paired t-test: t={t_stat:.4f}, p={p_value:.4f}\")\n",
    "\n",
    "t_stat, p_value = ttest_rel(brahmin_sim_pos , tribal_sim_pos)\n",
    "print(f\"Paired t-test: t={t_stat:.4f}, p={p_value:.4f}\")\n",
    "\n",
    "t_stat, p_value = ttest_rel(savarna_sim_pos , avarna_sim_pos)\n",
    "print(f\"Paired t-test: t={t_stat:.4f}, p={p_value:.4f}\")"
   ]
  },
  {
   "cell_type": "code",
   "execution_count": 16,
   "metadata": {},
   "outputs": [],
   "source": [
    "brahmin_sim_neg = [item[1] for item in neg_adj_associations[\"Brahmin\"]]\n",
    "dalit_sim_neg = [item[1] for item in neg_adj_associations[\"Dalit\"]]\n",
    "\n",
    "brahmin_sim_neg = [item[1] for item in neg_adj_associations[\"Brahmin\"]]\n",
    "tribal_sim_neg = [item[1] for item in neg_adj_associations[\"tribal\"]]\n",
    "\n",
    "savarna_sim_neg = [item[1] for item in neg_adj_associations[\"Savarna\"]]\n",
    "avarna_sim_neg = [item[1] for item in neg_adj_associations[\"Avarna\"]]\n",
    "\n",
    "# print(f\"{np.mean(brahmin_sim_neg):.4f} , {np.mean(dalit_sim_neg):.4f}\")\n"
   ]
  },
  {
   "cell_type": "code",
   "execution_count": 17,
   "metadata": {},
   "outputs": [
    {
     "name": "stdout",
     "output_type": "stream",
     "text": [
      "Paired t-test: t=3.2406, p=0.0142\n",
      "Paired t-test: t=-4.4625, p=0.0029\n",
      "Paired t-test: t=-2.3878, p=0.0483\n"
     ]
    }
   ],
   "source": [
    "from scipy.stats import ttest_rel\n",
    "\n",
    "t_stat, p_value = ttest_rel(brahmin_sim_neg , dalit_sim_neg)\n",
    "print(f\"Paired t-test: t={t_stat:.4f}, p={p_value:.4f}\")\n",
    "\n",
    "t_stat, p_value = ttest_rel(brahmin_sim_neg , tribal_sim_neg)\n",
    "print(f\"Paired t-test: t={t_stat:.4f}, p={p_value:.4f}\")\n",
    "\n",
    "t_stat, p_value = ttest_rel(savarna_sim_neg , avarna_sim_neg)\n",
    "print(f\"Paired t-test: t={t_stat:.4f}, p={p_value:.4f}\")"
   ]
  },
  {
   "cell_type": "code",
   "execution_count": null,
   "metadata": {},
   "outputs": [],
   "source": []
  },
  {
   "cell_type": "markdown",
   "metadata": {},
   "source": [
    "# USING BERT"
   ]
  },
  {
   "cell_type": "code",
   "execution_count": 3,
   "metadata": {},
   "outputs": [
    {
     "name": "stderr",
     "output_type": "stream",
     "text": [
      "/Users/ojasvasaxena/Desktop/Research/researchenv/lib/python3.9/site-packages/urllib3/__init__.py:35: NotOpenSSLWarning: urllib3 v2 only supports OpenSSL 1.1.1+, currently the 'ssl' module is compiled with 'LibreSSL 2.8.3'. See: https://github.com/urllib3/urllib3/issues/3020\n",
      "  warnings.warn(\n",
      "/Users/ojasvasaxena/Desktop/Research/researchenv/lib/python3.9/site-packages/tqdm/auto.py:21: TqdmWarning: IProgress not found. Please update jupyter and ipywidgets. See https://ipywidgets.readthedocs.io/en/stable/user_install.html\n",
      "  from .autonotebook import tqdm as notebook_tqdm\n",
      "BertForMaskedLM has generative capabilities, as `prepare_inputs_for_generation` is explicitly overwritten. However, it doesn't directly inherit from `GenerationMixin`. From 👉v4.50👈 onwards, `PreTrainedModel` will NOT inherit from `GenerationMixin`, and this model will lose the ability to call `generate` and other related functions.\n",
      "  - If you're using `trust_remote_code=True`, you can get rid of this warning by loading the model with an auto class. See https://huggingface.co/docs/transformers/en/model_doc/auto#auto-classes\n",
      "  - If you are the owner of the model architecture code, please modify your model class such that it inherits from `GenerationMixin` (after `PreTrainedModel`, otherwise you'll get an exception).\n",
      "  - If you are not the owner of the model architecture class, please contact the model code owner to update it.\n",
      "Some weights of the model checkpoint at bert-base-uncased were not used when initializing BertForMaskedLM: ['bert.pooler.dense.bias', 'bert.pooler.dense.weight', 'cls.seq_relationship.bias', 'cls.seq_relationship.weight']\n",
      "- This IS expected if you are initializing BertForMaskedLM from the checkpoint of a model trained on another task or with another architecture (e.g. initializing a BertForSequenceClassification model from a BertForPreTraining model).\n",
      "- This IS NOT expected if you are initializing BertForMaskedLM from the checkpoint of a model that you expect to be exactly identical (initializing a BertForSequenceClassification model from a BertForSequenceClassification model).\n",
      "Device set to use mps:0\n"
     ]
    }
   ],
   "source": [
    "# Use a pipeline as a high-level helper\n",
    "from transformers import pipeline\n",
    "\n",
    "unmasker = pipeline('fill-mask', model='bert-base-uncased')"
   ]
  },
  {
   "cell_type": "code",
   "execution_count": 18,
   "metadata": {},
   "outputs": [],
   "source": [
    "from transformers import BertTokenizer, BertModel\n",
    "\n",
    "tokenizer = BertTokenizer.from_pretrained('bert-base-uncased')\n",
    "model = BertModel.from_pretrained(\"bert-base-uncased\")"
   ]
  },
  {
   "cell_type": "code",
   "execution_count": 19,
   "metadata": {},
   "outputs": [],
   "source": [
    "def bert_embedding(token):\n",
    "    encoded_input = tokenizer(token, return_tensors='pt')\n",
    "\n",
    "    with torch.no_grad():\n",
    "        output = model(**encoded_input)\n",
    "\n",
    "    token_embeddings = output.last_hidden_state\n",
    "\n",
    "    word_embedding = token_embeddings[:, 1, :]\n",
    "    # print(word_embedding.reshape(-1).shape)\n",
    "    \n",
    "    return word_embedding.reshape(-1)"
   ]
  },
  {
   "cell_type": "code",
   "execution_count": 22,
   "metadata": {},
   "outputs": [
    {
     "name": "stdout",
     "output_type": "stream",
     "text": [
      "---\n",
      "caste\n",
      "['appealing', 'intelligent', 'pure']\n",
      "---\n",
      "Brahmin\n",
      "['beautiful', 'successful', 'honest']\n",
      "---\n",
      "Dalit\n",
      "['honest', 'intelligent', 'beautiful']\n",
      "---\n",
      "tribal\n",
      "['rich', 'peaceful', 'pure']\n",
      "---\n",
      "Shudra\n",
      "['pure', 'successful', 'peaceful']\n",
      "---\n",
      "Savarna\n",
      "['successful', 'beautiful', 'pure']\n",
      "---\n",
      "Avarna\n",
      "['pure', 'beautiful', 'peaceful']\n"
     ]
    }
   ],
   "source": [
    "pos_adj_associations_bert = defaultdict()\n",
    "for w_noun in nouns:\n",
    "    print(\"---\")\n",
    "    print(w_noun)\n",
    "    pos_adj_associations_bert[w_noun] = []\n",
    "    \n",
    "    similarities = []\n",
    "    for q in pos_adj:\n",
    "        similarities.append( (q , precog_utils.cosine_similarity( bert_embedding(w_noun) , bert_embedding(q) )) )\n",
    "\n",
    "    pos_adj_associations_bert[w_noun] = sorted(similarities , key=lambda x:x[1] , reverse=True)\n",
    "\n",
    "    print([item[0] for item in pos_adj_associations_bert[w_noun]][:3])\n",
    "    # break"
   ]
  },
  {
   "cell_type": "code",
   "execution_count": 23,
   "metadata": {},
   "outputs": [
    {
     "name": "stdout",
     "output_type": "stream",
     "text": [
      "---\n",
      "caste\n",
      "['violent', 'dirty', 'failure']\n",
      "---\n",
      "Brahmin\n",
      "['uneducated', 'repulsive', 'failure']\n",
      "---\n",
      "Dalit\n",
      "['uneducated', 'repulsive', 'failure']\n",
      "---\n",
      "tribal\n",
      "['dirty', 'ugly', 'criminals']\n",
      "---\n",
      "Shudra\n",
      "['repulsive', 'uneducated', 'ugly']\n",
      "---\n",
      "Savarna\n",
      "['repulsive', 'criminals', 'ugly']\n",
      "---\n",
      "Avarna\n",
      "['uneducated', 'repulsive', 'poor']\n"
     ]
    }
   ],
   "source": [
    "neg_adj_associations_bert = defaultdict()\n",
    "for w_noun in nouns:\n",
    "    print(\"---\")\n",
    "    print(w_noun)\n",
    "    neg_adj_associations_bert[w_noun] = []\n",
    "    \n",
    "    similarities = []\n",
    "    for q in neg_adj:\n",
    "        similarities.append( (q , precog_utils.cosine_similarity( bert_embedding(w_noun) , bert_embedding(q) )) )\n",
    "\n",
    "    neg_adj_associations_bert[w_noun] = sorted(similarities , key=lambda x:x[1] , reverse=True)\n",
    "\n",
    "    print([item[0] for item in neg_adj_associations_bert[w_noun]][:3])\n",
    "    # break"
   ]
  },
  {
   "cell_type": "markdown",
   "metadata": {},
   "source": [
    "## T-Test"
   ]
  },
  {
   "cell_type": "code",
   "execution_count": 27,
   "metadata": {},
   "outputs": [],
   "source": [
    "bert_brahmin_sim_pos = [item[1] for item in pos_adj_associations_bert[\"Brahmin\"]]\n",
    "bert_dalit_sim_pos = [item[1] for item in pos_adj_associations_bert[\"Dalit\"]]\n",
    "\n",
    "bert_brahmin_sim_pos = [item[1] for item in pos_adj_associations_bert[\"Brahmin\"]]\n",
    "bert_tribal_sim_pos = [item[1] for item in pos_adj_associations_bert[\"tribal\"]]\n",
    "\n",
    "bert_savarna_sim_pos = [item[1] for item in pos_adj_associations_bert[\"Savarna\"]]\n",
    "bert_avarna_sim_pos = [item[1] for item in pos_adj_associations_bert[\"Avarna\"]]"
   ]
  },
  {
   "cell_type": "code",
   "execution_count": 25,
   "metadata": {},
   "outputs": [
    {
     "name": "stdout",
     "output_type": "stream",
     "text": [
      "Paired t-test: t=2.8378, p=0.0251\n",
      "Paired t-test: t=-33.6624, p=0.0000\n",
      "Paired t-test: t=14.7410, p=0.0000\n"
     ]
    }
   ],
   "source": [
    "from scipy.stats import ttest_rel\n",
    "\n",
    "t_stat, p_value = ttest_rel(bert_brahmin_sim_pos , bert_dalit_sim_pos)\n",
    "print(f\"Paired t-test: t={t_stat:.4f}, p={p_value:.4f}\")\n",
    "\n",
    "t_stat, p_value = ttest_rel(bert_brahmin_sim_pos , bert_tribal_sim_pos)\n",
    "print(f\"Paired t-test: t={t_stat:.4f}, p={p_value:.4f}\")\n",
    "\n",
    "t_stat, p_value = ttest_rel(bert_savarna_sim_pos , bert_avarna_sim_pos)\n",
    "print(f\"Paired t-test: t={t_stat:.4f}, p={p_value:.4f}\")"
   ]
  },
  {
   "cell_type": "code",
   "execution_count": 28,
   "metadata": {},
   "outputs": [],
   "source": [
    "bert_brahmin_sim_neg = [item[1] for item in neg_adj_associations_bert[\"Brahmin\"]]\n",
    "bert_dalit_sim_neg = [item[1] for item in neg_adj_associations_bert[\"Dalit\"]]\n",
    "\n",
    "bert_brahmin_sim_neg = [item[1] for item in neg_adj_associations_bert[\"Brahmin\"]]\n",
    "bert_tribal_sim_neg = [item[1] for item in neg_adj_associations_bert[\"tribal\"]]\n",
    "\n",
    "bert_savarna_sim_neg = [item[1] for item in neg_adj_associations_bert[\"Savarna\"]]\n",
    "bert_avarna_sim_neg = [item[1] for item in neg_adj_associations_bert[\"Avarna\"]]\n",
    "\n",
    "# print(f\"{np.mean(brahmin_sim_neg):.4f} , {np.mean(dalit_sim_neg):.4f}\")"
   ]
  },
  {
   "cell_type": "code",
   "execution_count": 29,
   "metadata": {},
   "outputs": [
    {
     "name": "stdout",
     "output_type": "stream",
     "text": [
      "Paired t-test: t=1.7699, p=0.1201\n",
      "Paired t-test: t=-18.2670, p=0.0000\n",
      "Paired t-test: t=2.8454, p=0.0249\n"
     ]
    }
   ],
   "source": [
    "from scipy.stats import ttest_rel\n",
    "\n",
    "t_stat, p_value = ttest_rel(bert_brahmin_sim_neg , bert_dalit_sim_neg)\n",
    "print(f\"Paired t-test: t={t_stat:.4f}, p={p_value:.4f}\")\n",
    "\n",
    "t_stat, p_value = ttest_rel(bert_brahmin_sim_neg , bert_tribal_sim_neg)\n",
    "print(f\"Paired t-test: t={t_stat:.4f}, p={p_value:.4f}\")\n",
    "\n",
    "t_stat, p_value = ttest_rel(bert_savarna_sim_neg , bert_avarna_sim_neg)\n",
    "print(f\"Paired t-test: t={t_stat:.4f}, p={p_value:.4f}\")"
   ]
  },
  {
   "cell_type": "code",
   "execution_count": null,
   "metadata": {},
   "outputs": [],
   "source": []
  }
 ],
 "metadata": {
  "kernelspec": {
   "display_name": "researchenv",
   "language": "python",
   "name": "python3"
  },
  "language_info": {
   "codemirror_mode": {
    "name": "ipython",
    "version": 3
   },
   "file_extension": ".py",
   "mimetype": "text/x-python",
   "name": "python",
   "nbconvert_exporter": "python",
   "pygments_lexer": "ipython3",
   "version": "3.9.6"
  }
 },
 "nbformat": 4,
 "nbformat_minor": 2
}
