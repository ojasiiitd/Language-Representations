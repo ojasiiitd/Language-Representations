{
 "cells": [
  {
   "cell_type": "code",
   "execution_count": 167,
   "metadata": {},
   "outputs": [
    {
     "data": {
      "text/plain": [
       "<module 'precog_utils' from '/Users/ojasvasaxena/Desktop/Research/Precog_Hiring/precog_utils.py'>"
      ]
     },
     "execution_count": 167,
     "metadata": {},
     "output_type": "execute_result"
    }
   ],
   "source": [
    "import io\n",
    "import importlib\n",
    "import numpy as np\n",
    "from tqdm import tqdm\n",
    "import precog_utils\n",
    "from collections import defaultdict\n",
    "import torch\n",
    "from scipy.stats import ttest_rel\n",
    "\n",
    "importlib.reload(precog_utils)"
   ]
  },
  {
   "cell_type": "markdown",
   "metadata": {},
   "source": [
    "## FastText Embeddings\n",
    "Loading FastText English embeddings"
   ]
  },
  {
   "cell_type": "code",
   "execution_count": 168,
   "metadata": {},
   "outputs": [],
   "source": [
    "def load_vectors(fname):\n",
    "    fin = io.open(fname, 'r', encoding='utf-8', newline='\\n', errors='ignore')\n",
    "    n, d = map(int, fin.readline().split())  # header (vocab size, dim)\n",
    "    data = {}\n",
    "    for line in fin:\n",
    "        tokens = line.rstrip().split(' ')\n",
    "        # convert to numpy array\n",
    "        data[tokens[0]] = np.array(list(map(float , tokens[1:])))\n",
    "    return data\n",
    "\n",
    "# load embeddings\n",
    "fasttext_en = load_vectors(\"Embeddings/fasttext_en.vec\")  # English FastText .vec file"
   ]
  },
  {
   "cell_type": "markdown",
   "metadata": {},
   "source": [
    "Testing if casteist associations are reproduced which are propagated in mainstream online discourse\n",
    "* The term \"Dalit\", used as a blanket term to refer to oppressed caste (SC) communities is more similar (cosine) to the adjective \"dirty\", than \"clean\".\n",
    "* This is a potentially harmul and casteist reproduction that seems to be embedded into word embeddings, as a result of training data. "
   ]
  },
  {
   "cell_type": "code",
   "execution_count": 169,
   "metadata": {},
   "outputs": [
    {
     "name": "stdout",
     "output_type": "stream",
     "text": [
      "0.2145\n",
      "0.1669\n"
     ]
    }
   ],
   "source": [
    "w_harm = precog_utils.get_fasttext_embedding(\"Dalit\" , fasttext_en)\n",
    "w_comp1 = precog_utils.get_fasttext_embedding(\"dirty\" , fasttext_en)\n",
    "w_comp2 = precog_utils.get_fasttext_embedding(\"clean\" , fasttext_en)\n",
    "\n",
    "# association between 'nurse' and gendered words\n",
    "print(f\"{precog_utils.cosine_similarity(w_harm , w_comp1):.4f}\")\n",
    "print(f\"{precog_utils.cosine_similarity(w_harm , w_comp2):.4f}\")"
   ]
  },
  {
   "cell_type": "markdown",
   "metadata": {},
   "source": [
    "### Statistical Analysis\n",
    "* I'll try to see how other adjectives (both positive and negative) statistically relate to nouns used to represent identities from both oppressor and oppressed caste communities.\n",
    "* Nouns include words like: \"Brahmin\", \"Dalit\", \"tribal\", \"Savarna\", \"Avarna\", etc\n",
    "* I also create a list of positively associated adjectives, and negatively associated adjectives.\n",
    "* The idea is to see if the usage of both positive and negative adjectives in tandem with identities is statistically different."
   ]
  },
  {
   "cell_type": "code",
   "execution_count": 207,
   "metadata": {},
   "outputs": [],
   "source": [
    "all_nouns = [\"caste\", \"Hindu\", \"Brahmin\", \"Kshatriya\", \"Rajput\", \"Dalit\", \"tribal\", \"Adivasi\", \"Shudra\", \"Savarna\", \"Avarna\"]\n",
    "nouns = [\"Brahmin\", \"Dalit\", \"tribal\", \"Savarna\", \"Avarna\"]\n",
    "\n",
    "qualities = [\"clean\", \"dirty\", \"appealing\" , \"repulsive\" , \"peaceful\", \"violent\", \"intelligent\", \"uneducated\", \"rich\", \"poor\", \"successful\", \"failure\", \"honest\", \"criminal\" , \"beautiful\" , \"ugly\" ]\n",
    "\n",
    "pos_adj = [\"clean\" , \"appealing\" , \"peaceful\" , \"intelligent\" , \"rich\" , \"successful\" , \"honest\" , \"beautiful\"]\n",
    "neg_adj = ['criminal' , 'dirty' , 'failure' , 'poor' , 'repulsive' , 'ugly' , 'uneducated' , 'violent']"
   ]
  },
  {
   "cell_type": "markdown",
   "metadata": {},
   "source": [
    "Let's see which are the most similar adjectives/qualities used for some identities\n",
    "* The output does not seem obviously biased but we do observe more negative qualities being associated with marginalized caste identities.\n",
    "* The presence of anti-caste and Ambedkarite thought on the internet may also facilitate in counter-acting some of these harmful associations."
   ]
  },
  {
   "cell_type": "code",
   "execution_count": null,
   "metadata": {},
   "outputs": [
    {
     "name": "stdout",
     "output_type": "stream",
     "text": [
      "FastText Embeddings\n",
      "---\n",
      "caste\n",
      "['criminal', 'uneducated', 'poor', 'failure', 'intelligent']\n",
      "---\n",
      "Hindu\n",
      "['criminal', 'violent', 'uneducated', 'beautiful', 'peaceful']\n",
      "---\n",
      "Brahmin\n",
      "['uneducated', 'poor', 'rich', 'criminal', 'intelligent']\n",
      "---\n",
      "Kshatriya\n",
      "['criminal', 'uneducated', 'honest', 'intelligent', 'poor']\n",
      "---\n",
      "Rajput\n",
      "['criminal', 'uneducated', 'violent', 'beautiful', 'honest']\n",
      "---\n",
      "Dalit\n",
      "['poor', 'uneducated', 'criminal', 'rich', 'ugly']\n",
      "---\n",
      "tribal\n",
      "['criminal', 'violent', 'uneducated', 'peaceful', 'beautiful']\n",
      "---\n",
      "Adivasi\n",
      "['uneducated', 'peaceful', 'poor', 'rich', 'beautiful']\n",
      "---\n",
      "Shudra\n",
      "['uneducated', 'poor', 'dirty', 'criminal', 'ugly']\n",
      "---\n",
      "Savarna\n",
      "['uneducated', 'violent', 'criminal', 'peaceful', 'poor']\n",
      "---\n",
      "Avarna\n",
      "['uneducated', 'repulsive', 'poor', 'beautiful', 'dirty']\n"
     ]
    }
   ],
   "source": [
    "qualities_associations = defaultdict()\n",
    "print(\"FastText Embeddings\")\n",
    "for w_noun in all_nouns:\n",
    "    print(\"---\")\n",
    "    print(w_noun)\n",
    "    if w_noun in fasttext_en:\n",
    "        qualities_associations[w_noun] = []\n",
    "    else:\n",
    "        print(\"no word vector exists in FastText-En\")\n",
    "    \n",
    "    similarities = []\n",
    "    for q in qualities:\n",
    "        similarities.append( (  q , precog_utils.cosine_similarity( fasttext_en.get(w_noun) , fasttext_en.get(q) ) ) )\n",
    "\n",
    "    qualities_associations[w_noun] = sorted(similarities , key=lambda x:x[1] , reverse=True)\n",
    "\n",
    "    print([item[0] for item in qualities_associations[w_noun]][:5])"
   ]
  },
  {
   "cell_type": "markdown",
   "metadata": {},
   "source": [
    "Getting similarity scores of positive qualities for identities"
   ]
  },
  {
   "cell_type": "code",
   "execution_count": 190,
   "metadata": {},
   "outputs": [
    {
     "name": "stdout",
     "output_type": "stream",
     "text": [
      "---\n",
      "Brahmin\n",
      "['rich', 'intelligent', 'beautiful']\n",
      "---\n",
      "Dalit\n",
      "['rich', 'intelligent', 'beautiful']\n",
      "---\n",
      "tribal\n",
      "['peaceful', 'beautiful', 'rich']\n",
      "---\n",
      "Savarna\n",
      "['peaceful', 'rich', 'beautiful']\n",
      "---\n",
      "Avarna\n",
      "['beautiful', 'rich', 'intelligent']\n",
      "---\n",
      "Adivasi\n",
      "['peaceful', 'rich', 'beautiful']\n"
     ]
    }
   ],
   "source": [
    "pos_adj_associations = defaultdict()\n",
    "for w_noun in nouns:\n",
    "    print(\"---\")\n",
    "    print(w_noun)\n",
    "    if w_noun in fasttext_en:\n",
    "        pos_adj_associations[w_noun] = []\n",
    "    else:\n",
    "        print(\"no word vector exists in FastText-En\")\n",
    "    \n",
    "    similarities = []\n",
    "    for q in pos_adj:\n",
    "        similarities.append( (q , precog_utils.cosine_similarity( fasttext_en.get(w_noun) , fasttext_en.get(q))) )\n",
    "\n",
    "    pos_adj_associations[w_noun] = sorted(similarities , key=lambda x:x[1] , reverse=True)\n",
    "\n",
    "    print([item[0] for item in pos_adj_associations[w_noun]][:3])"
   ]
  },
  {
   "cell_type": "markdown",
   "metadata": {},
   "source": [
    "Getting similarity scores of negative qualities for identities"
   ]
  },
  {
   "cell_type": "code",
   "execution_count": 172,
   "metadata": {},
   "outputs": [
    {
     "name": "stdout",
     "output_type": "stream",
     "text": [
      "---\n",
      "caste\n",
      "['uneducated', 'criminals', 'poor']\n",
      "---\n",
      "Brahmin\n",
      "['uneducated', 'poor', 'criminals']\n",
      "---\n",
      "Dalit\n",
      "['poor', 'uneducated', 'criminals']\n",
      "---\n",
      "tribal\n",
      "['violent', 'uneducated', 'dirty']\n",
      "---\n",
      "Shudra\n",
      "['uneducated', 'poor', 'dirty']\n",
      "---\n",
      "Savarna\n",
      "['uneducated', 'violent', 'criminals']\n",
      "---\n",
      "Avarna\n",
      "['uneducated', 'repulsive', 'poor']\n",
      "---\n",
      "Adivasi\n",
      "['uneducated', 'poor', 'criminals']\n"
     ]
    }
   ],
   "source": [
    "neg_adj_associations = defaultdict()\n",
    "for w_noun in nouns:\n",
    "    print(\"---\")\n",
    "    print(w_noun)\n",
    "    if w_noun in fasttext_en:\n",
    "        neg_adj_associations[w_noun] = []\n",
    "    else:\n",
    "        print(\"no word vector exists in FastText-En\")\n",
    "    \n",
    "    similarities = []\n",
    "    for q in neg_adj:\n",
    "        similarities.append( (q , precog_utils.cosine_similarity( fasttext_en.get(w_noun) , fasttext_en.get(q))) )\n",
    "\n",
    "    neg_adj_associations[w_noun] = sorted(similarities , key=lambda x:x[1] , reverse=True)\n",
    "\n",
    "    print([item[0] for item in neg_adj_associations[w_noun]][:3])"
   ]
  },
  {
   "cell_type": "markdown",
   "metadata": {},
   "source": [
    "### Statistical t-Test\n",
    ">`Null Hypothesis (H0) = The positive/negative adjectives are used similarly for identity A  and  identity B . That is, their mean cosine similarities are statistically equivalent.`\n",
    "\n",
    ">`Alternate Hypothesis (H1) = The positive/negative adjectives are used differently for word A  and  word B . That is, their mean cosine similarities are statistically unequal.`\n",
    "\n",
    ">`If  p < 0.05 , reject  H0 , meaning H1 is significant -- the positive/negative adjectives are biased in the way they are used with identity A and identity B`\n",
    "\n",
    "I'll run the test with both positive and negative adjectives to compare:\n",
    "* \"Brahmin\", \"Dalit\"\n",
    "* \"Brahmin\", \"tribal\"\n",
    "* \"Savarna\", \"Avarna\""
   ]
  },
  {
   "cell_type": "code",
   "execution_count": 210,
   "metadata": {},
   "outputs": [],
   "source": [
    "brahmin_sim_pos = [item[1] for item in pos_adj_associations[\"Brahmin\"]]\n",
    "dalit_sim_pos = [item[1] for item in pos_adj_associations[\"Dalit\"]]\n",
    "\n",
    "brahmin_sim_pos = [item[1] for item in pos_adj_associations[\"Brahmin\"]]\n",
    "tribal_sim_pos = [item[1] for item in pos_adj_associations[\"tribal\"]]\n",
    "\n",
    "savarna_sim_pos = [item[1] for item in pos_adj_associations[\"Savarna\"]]\n",
    "avarna_sim_pos = [item[1] for item in pos_adj_associations[\"Avarna\"]]"
   ]
  },
  {
   "cell_type": "markdown",
   "metadata": {},
   "source": [
    "I find that similarity of positive adjectives are statistically different for \"Brahmin\" and \"tribal\", \"Savarna\" and \"Avarna\""
   ]
  },
  {
   "cell_type": "code",
   "execution_count": 215,
   "metadata": {},
   "outputs": [
    {
     "name": "stdout",
     "output_type": "stream",
     "text": [
      "Paired t-test: t=1.4795, p=0.1825\n",
      "Paired t-test: t=-6.8274, p=0.0002\n",
      "Paired t-test: t=-4.8508, p=0.0019\n"
     ]
    }
   ],
   "source": [
    "from scipy.stats import ttest_rel\n",
    "\n",
    "t_stat, p_value = ttest_rel(brahmin_sim_pos , dalit_sim_pos)\n",
    "print(f\"Paired t-test: t={t_stat:.4f}, p={p_value:.4f}\")\n",
    "\n",
    "t_stat, p_value = ttest_rel(brahmin_sim_pos , tribal_sim_pos)\n",
    "print(f\"Paired t-test: t={t_stat:.4f}, p={p_value:.4f}\")\n",
    "\n",
    "t_stat, p_value = ttest_rel(savarna_sim_pos , avarna_sim_pos)\n",
    "print(f\"Paired t-test: t={t_stat:.4f}, p={p_value:.4f}\")"
   ]
  },
  {
   "cell_type": "code",
   "execution_count": 211,
   "metadata": {},
   "outputs": [],
   "source": [
    "brahmin_sim_neg = [item[1] for item in neg_adj_associations[\"Brahmin\"]]\n",
    "dalit_sim_neg = [item[1] for item in neg_adj_associations[\"Dalit\"]]\n",
    "\n",
    "brahmin_sim_neg = [item[1] for item in neg_adj_associations[\"Brahmin\"]]\n",
    "tribal_sim_neg = [item[1] for item in neg_adj_associations[\"tribal\"]]\n",
    "\n",
    "savarna_sim_neg = [item[1] for item in neg_adj_associations[\"Savarna\"]]\n",
    "avarna_sim_neg = [item[1] for item in neg_adj_associations[\"Avarna\"]]\n"
   ]
  },
  {
   "cell_type": "markdown",
   "metadata": {},
   "source": [
    "I find that similarity of negative adjectives are statistically different for \"Brahmin\" and \"Dalit\", \"Brahmin\" and \"tribal\", \"Savarna\" and \"Avarna\""
   ]
  },
  {
   "cell_type": "code",
   "execution_count": 216,
   "metadata": {},
   "outputs": [
    {
     "name": "stdout",
     "output_type": "stream",
     "text": [
      "Paired t-test: t=3.2406, p=0.0142\n",
      "Paired t-test: t=-4.4625, p=0.0029\n",
      "Paired t-test: t=-2.3878, p=0.0483\n"
     ]
    }
   ],
   "source": [
    "t_stat, p_value = ttest_rel(brahmin_sim_neg , dalit_sim_neg)\n",
    "print(f\"Paired t-test: t={t_stat:.4f}, p={p_value:.4f}\")\n",
    "\n",
    "t_stat, p_value = ttest_rel(brahmin_sim_neg , tribal_sim_neg)\n",
    "print(f\"Paired t-test: t={t_stat:.4f}, p={p_value:.4f}\")\n",
    "\n",
    "t_stat, p_value = ttest_rel(savarna_sim_neg , avarna_sim_neg)\n",
    "print(f\"Paired t-test: t={t_stat:.4f}, p={p_value:.4f}\")"
   ]
  },
  {
   "cell_type": "markdown",
   "metadata": {},
   "source": [
    "### Visualising the bias"
   ]
  },
  {
   "cell_type": "code",
   "execution_count": 217,
   "metadata": {},
   "outputs": [
    {
     "data": {
      "image/png": "[encoded data removed]",
      "text/plain": [
       "<Figure size 1200x500 with 2 Axes>"
      ]
     },
     "metadata": {},
     "output_type": "display_data"
    }
   ],
   "source": [
    "import numpy as np\n",
    "import seaborn as sns\n",
    "import matplotlib.pyplot as plt\n",
    "from scipy.stats import ttest_rel\n",
    "\n",
    "t_stat_pos, p_value_pos = ttest_rel(brahmin_sim_pos, tribal_sim_pos)\n",
    "t_stat_neg, p_value_neg = ttest_rel(brahmin_sim_neg, dalit_sim_neg)\n",
    "\n",
    "fig, axes = plt.subplots(1, 2, figsize=(12, 5))\n",
    "\n",
    "sns.boxplot(data=[brahmin_sim_pos, tribal_sim_pos], palette=['rosybrown', 'mediumblue'], ax=axes[0])\n",
    "axes[0].set_xticks([0, 1])\n",
    "axes[0].set_xticklabels(['\"Brahmin\"', '\"tribal\"'])\n",
    "axes[0].set_ylabel(\"Cosine Similarity\")\n",
    "axes[0].set_title(f\"(+ve qualities: FastText) T-test p-value: {p_value_pos:.4f}\")\n",
    "\n",
    "sns.boxplot(data=[brahmin_sim_neg, dalit_sim_neg], palette=['rosybrown', 'mediumblue'], ax=axes[1])\n",
    "axes[1].set_xticks([0, 1])\n",
    "axes[1].set_xticklabels(['\"Brahmin\"', '\"Dalit\"'])\n",
    "axes[1].set_ylabel(\"Cosine Similarity\")\n",
    "axes[1].set_title(f\"(-ve qualities: FastText) T-test p-value: {p_value_neg:.4f}\")\n",
    "\n",
    "plt.tight_layout()\n",
    "plt.show()"
   ]
  },
  {
   "cell_type": "markdown",
   "metadata": {},
   "source": [
    "## BERT Embeddings\n",
    "BERT is a contextual pretrained embedding learnt using the transformer endoder."
   ]
  },
  {
   "cell_type": "markdown",
   "metadata": {},
   "source": [
    "Loading BERT embeddings from HuggingFace"
   ]
  },
  {
   "cell_type": "code",
   "execution_count": 219,
   "metadata": {},
   "outputs": [],
   "source": [
    "from transformers import BertTokenizer, BertModel\n",
    "\n",
    "tokenizer = BertTokenizer.from_pretrained('bert-base-uncased')\n",
    "model = BertModel.from_pretrained(\"bert-base-uncased\")"
   ]
  },
  {
   "cell_type": "markdown",
   "metadata": {},
   "source": [
    "Function to get BERT embeddings from tokens"
   ]
  },
  {
   "cell_type": "code",
   "execution_count": 180,
   "metadata": {},
   "outputs": [],
   "source": [
    "def bert_embedding(token):\n",
    "    encoded_input = tokenizer(token, return_tensors='pt')\n",
    "\n",
    "    with torch.no_grad():\n",
    "        output = model(**encoded_input)\n",
    "\n",
    "    token_embeddings = output.last_hidden_state\n",
    "\n",
    "    word_embedding = token_embeddings[:, 1, :]\n",
    "    # print(word_embedding.reshape(-1).shape)\n",
    "    \n",
    "    return word_embedding.reshape(-1)"
   ]
  },
  {
   "cell_type": "markdown",
   "metadata": {},
   "source": [
    "Performing the same **Statistical Analysis** with BERT Embeddings"
   ]
  },
  {
   "cell_type": "markdown",
   "metadata": {},
   "source": [
    "Let's see which are the most similar adjectives/qualities used for some identities"
   ]
  },
  {
   "cell_type": "code",
   "execution_count": 206,
   "metadata": {},
   "outputs": [
    {
     "name": "stdout",
     "output_type": "stream",
     "text": [
      "BERT Embeddings\n",
      "---\n",
      "Brahmin\n",
      "['uneducated', 'repulsive', 'failure']\n",
      "---\n",
      "Kshatriya\n",
      "['uneducated', 'repulsive', 'clean']\n",
      "---\n",
      "Rajput\n",
      "['repulsive', 'uneducated', 'clean']\n",
      "---\n",
      "Dalit\n",
      "['uneducated', 'repulsive', 'clean']\n",
      "---\n",
      "tribal\n",
      "['dirty', 'rich', 'peaceful']\n",
      "---\n",
      "Adivasi\n",
      "['uneducated', 'repulsive', 'ugly']\n",
      "---\n",
      "Shudra\n",
      "['clean', 'repulsive', 'uneducated']\n",
      "---\n",
      "Savarna\n",
      "['successful', 'repulsive', 'beautiful']\n",
      "---\n",
      "Avarna\n",
      "['uneducated', 'repulsive', 'beautiful']\n"
     ]
    }
   ],
   "source": [
    "qualities_associations_bert = defaultdict()\n",
    "print(\"BERT Embeddings\")\n",
    "for w_noun in nouns:\n",
    "    print(\"---\")\n",
    "    print(w_noun)\n",
    "    qualities_associations_bert[w_noun] = []\n",
    "    \n",
    "    similarities = []\n",
    "    for q in qualities:\n",
    "        similarities.append( (q , precog_utils.cosine_similarity( bert_embedding(w_noun) , bert_embedding(q) )) )\n",
    "\n",
    "    qualities_associations_bert[w_noun] = sorted(similarities , key=lambda x:x[1] , reverse=True)\n",
    "\n",
    "    print([item[0] for item in qualities_associations_bert[w_noun]][:3])"
   ]
  },
  {
   "cell_type": "markdown",
   "metadata": {},
   "source": [
    "Getting similarity scores of positive qualities for identities"
   ]
  },
  {
   "cell_type": "code",
   "execution_count": 220,
   "metadata": {},
   "outputs": [
    {
     "name": "stdout",
     "output_type": "stream",
     "text": [
      "---\n",
      "Brahmin\n",
      "['clean', 'beautiful', 'successful']\n",
      "---\n",
      "Dalit\n",
      "['clean', 'honest', 'intelligent']\n",
      "---\n",
      "tribal\n",
      "['rich', 'peaceful', 'successful']\n",
      "---\n",
      "Savarna\n",
      "['successful', 'beautiful', 'peaceful']\n",
      "---\n",
      "Avarna\n",
      "['beautiful', 'peaceful', 'clean']\n"
     ]
    }
   ],
   "source": [
    "pos_adj_associations_bert = defaultdict()\n",
    "for w_noun in nouns:\n",
    "    print(\"---\")\n",
    "    print(w_noun)\n",
    "    pos_adj_associations_bert[w_noun] = []\n",
    "    \n",
    "    similarities = []\n",
    "    for q in pos_adj:\n",
    "        similarities.append( (q , precog_utils.cosine_similarity( bert_embedding(w_noun) , bert_embedding(q) )) )\n",
    "\n",
    "    pos_adj_associations_bert[w_noun] = sorted(similarities , key=lambda x:x[1] , reverse=True)\n",
    "\n",
    "    print([item[0] for item in pos_adj_associations_bert[w_noun]][:3])"
   ]
  },
  {
   "cell_type": "markdown",
   "metadata": {},
   "source": [
    "Getting similarity scores of negative qualities for identities"
   ]
  },
  {
   "cell_type": "code",
   "execution_count": 221,
   "metadata": {},
   "outputs": [
    {
     "name": "stdout",
     "output_type": "stream",
     "text": [
      "---\n",
      "Brahmin\n",
      "['uneducated', 'repulsive', 'failure']\n",
      "---\n",
      "Dalit\n",
      "['uneducated', 'repulsive', 'criminal']\n",
      "---\n",
      "tribal\n",
      "['dirty', 'criminal', 'ugly']\n",
      "---\n",
      "Savarna\n",
      "['repulsive', 'criminal', 'ugly']\n",
      "---\n",
      "Avarna\n",
      "['uneducated', 'repulsive', 'poor']\n"
     ]
    }
   ],
   "source": [
    "neg_adj_associations_bert = defaultdict()\n",
    "for w_noun in nouns:\n",
    "    print(\"---\")\n",
    "    print(w_noun)\n",
    "    neg_adj_associations_bert[w_noun] = []\n",
    "    \n",
    "    similarities = []\n",
    "    for q in neg_adj:\n",
    "        similarities.append( (q , precog_utils.cosine_similarity( bert_embedding(w_noun) , bert_embedding(q) )) )\n",
    "\n",
    "    neg_adj_associations_bert[w_noun] = sorted(similarities , key=lambda x:x[1] , reverse=True)\n",
    "\n",
    "    print([item[0] for item in neg_adj_associations_bert[w_noun]][:3])"
   ]
  },
  {
   "cell_type": "markdown",
   "metadata": {},
   "source": [
    "### Statistical t-Test\n",
    ">`Null Hypothesis (H0) = The positive/negative adjectives are used similarly for identity A  and  identity B . That is, their mean cosine similarities are statistically equivalent.`\n",
    "\n",
    ">`Alternate Hypothesis (H1) = The positive/negative adjectives are used differently for word A  and  word B . That is, their mean cosine similarities are statistically unequal.`\n",
    "\n",
    ">`If  p < 0.05 , reject  H0 , meaning H1 is significant -- the positive/negative adjectives are biased in the way they are used with identity A and identity B`\n",
    "\n",
    "I'll run the test with both positive and negative adjectives to compare:\n",
    "* \"Brahmin\", \"Dalit\"\n",
    "* \"Brahmin\", \"tribal\"\n",
    "* \"Savarna\", \"Avarna\""
   ]
  },
  {
   "cell_type": "code",
   "execution_count": 222,
   "metadata": {},
   "outputs": [],
   "source": [
    "bert_brahmin_sim_pos = [item[1] for item in pos_adj_associations_bert[\"Brahmin\"]]\n",
    "bert_dalit_sim_pos = [item[1] for item in pos_adj_associations_bert[\"Dalit\"]]\n",
    "\n",
    "bert_brahmin_sim_pos = [item[1] for item in pos_adj_associations_bert[\"Brahmin\"]]\n",
    "bert_tribal_sim_pos = [item[1] for item in pos_adj_associations_bert[\"tribal\"]]\n",
    "\n",
    "bert_savarna_sim_pos = [item[1] for item in pos_adj_associations_bert[\"Savarna\"]]\n",
    "bert_avarna_sim_pos = [item[1] for item in pos_adj_associations_bert[\"Avarna\"]]"
   ]
  },
  {
   "cell_type": "markdown",
   "metadata": {},
   "source": [
    "I find that similarity of positive adjectives are statistically different across all identities \"Brahmin\" and \"Dalit\", \"Brahmin\" and \"tribal\", \"Savarna\" and \"Avarna\""
   ]
  },
  {
   "cell_type": "code",
   "execution_count": 223,
   "metadata": {},
   "outputs": [
    {
     "name": "stdout",
     "output_type": "stream",
     "text": [
      "Paired t-test: t=2.3538, p=0.0508\n",
      "Paired t-test: t=-30.8098, p=0.0000\n",
      "Paired t-test: t=13.7037, p=0.0000\n"
     ]
    }
   ],
   "source": [
    "t_stat, p_value = ttest_rel(bert_brahmin_sim_pos , bert_dalit_sim_pos)\n",
    "print(f\"Paired t-test: t={t_stat:.4f}, p={p_value:.4f}\")\n",
    "\n",
    "t_stat, p_value = ttest_rel(bert_brahmin_sim_pos , bert_tribal_sim_pos)\n",
    "print(f\"Paired t-test: t={t_stat:.4f}, p={p_value:.4f}\")\n",
    "\n",
    "t_stat, p_value = ttest_rel(bert_savarna_sim_pos , bert_avarna_sim_pos)\n",
    "print(f\"Paired t-test: t={t_stat:.4f}, p={p_value:.4f}\")"
   ]
  },
  {
   "cell_type": "code",
   "execution_count": 224,
   "metadata": {},
   "outputs": [],
   "source": [
    "bert_brahmin_sim_neg = [item[1] for item in neg_adj_associations_bert[\"Brahmin\"]]\n",
    "bert_dalit_sim_neg = [item[1] for item in neg_adj_associations_bert[\"Dalit\"]]\n",
    "\n",
    "bert_brahmin_sim_neg = [item[1] for item in neg_adj_associations_bert[\"Brahmin\"]]\n",
    "bert_tribal_sim_neg = [item[1] for item in neg_adj_associations_bert[\"tribal\"]]\n",
    "\n",
    "bert_savarna_sim_neg = [item[1] for item in neg_adj_associations_bert[\"Savarna\"]]\n",
    "bert_avarna_sim_neg = [item[1] for item in neg_adj_associations_bert[\"Avarna\"]]"
   ]
  },
  {
   "cell_type": "markdown",
   "metadata": {},
   "source": [
    "I find that similarity of negative adjectives are statistically different across all identities \"Brahmin\" and \"Dalit\", \"Brahmin\" and \"tribal\", \"Savarna\" and \"Avarna\""
   ]
  },
  {
   "cell_type": "code",
   "execution_count": 225,
   "metadata": {},
   "outputs": [
    {
     "name": "stdout",
     "output_type": "stream",
     "text": [
      "Paired t-test: t=1.6824, p=0.1364\n",
      "Paired t-test: t=-20.6434, p=0.0000\n",
      "Paired t-test: t=16.8284, p=0.0000\n"
     ]
    }
   ],
   "source": [
    "t_stat, p_value = ttest_rel(bert_brahmin_sim_neg , bert_dalit_sim_neg)\n",
    "print(f\"Paired t-test: t={t_stat:.4f}, p={p_value:.4f}\")\n",
    "\n",
    "t_stat, p_value = ttest_rel(bert_brahmin_sim_neg , bert_tribal_sim_neg)\n",
    "print(f\"Paired t-test: t={t_stat:.4f}, p={p_value:.4f}\")\n",
    "\n",
    "t_stat, p_value = ttest_rel(bert_savarna_sim_neg , bert_avarna_sim_pos)\n",
    "print(f\"Paired t-test: t={t_stat:.4f}, p={p_value:.4f}\")"
   ]
  },
  {
   "cell_type": "markdown",
   "metadata": {},
   "source": [
    "### Visualising the bias"
   ]
  },
  {
   "cell_type": "code",
   "execution_count": 227,
   "metadata": {},
   "outputs": [
    {
     "data": {
      "image/png": "[encoded data removed]",
      "text/plain": [
       "<Figure size 1200x500 with 2 Axes>"
      ]
     },
     "metadata": {},
     "output_type": "display_data"
    }
   ],
   "source": [
    "import numpy as np\n",
    "import seaborn as sns\n",
    "import matplotlib.pyplot as plt\n",
    "from scipy.stats import ttest_rel\n",
    "\n",
    "t_stat_pos, p_value_pos = ttest_rel(bert_savarna_sim_pos, bert_avarna_sim_pos)\n",
    "t_stat_neg, p_value_neg = ttest_rel(bert_brahmin_sim_neg , bert_tribal_sim_neg)\n",
    "\n",
    "fig, axes = plt.subplots(1, 2, figsize=(12, 5))\n",
    "\n",
    "sns.boxplot(data=[bert_savarna_sim_pos, bert_avarna_sim_pos], palette=['rosybrown', 'mediumblue'], ax=axes[0])\n",
    "axes[0].set_xticks([0, 1])\n",
    "axes[0].set_xticklabels(['\"Savarna\"', '\"Avarna\"'])\n",
    "axes[0].set_ylabel(\"Cosine Similarity\")\n",
    "axes[0].set_title(f\"(+ve qualities: BERT) T-test p-value: {p_value_pos:.4f}\")\n",
    "\n",
    "sns.boxplot(data=[bert_brahmin_sim_neg , bert_tribal_sim_neg], palette=['rosybrown', 'mediumblue'], ax=axes[1])\n",
    "axes[1].set_xticks([0, 1])\n",
    "axes[1].set_xticklabels(['\"Brahmin\"', '\"tribal\"'])\n",
    "axes[1].set_ylabel(\"Cosine Similarity\")\n",
    "axes[1].set_title(f\"(-ve qualities: BERT) T-test p-value: {p_value_neg:.4f}\")\n",
    "\n",
    "plt.tight_layout()\n",
    "plt.show()  "
   ]
  },
  {
   "cell_type": "code",
   "execution_count": null,
   "metadata": {},
   "outputs": [],
   "source": []
  }
 ],
 "metadata": {
  "kernelspec": {
   "display_name": "researchenv",
   "language": "python",
   "name": "python3"
  },
  "language_info": {
   "codemirror_mode": {
    "name": "ipython",
    "version": 3
   },
   "file_extension": ".py",
   "mimetype": "text/x-python",
   "name": "python",
   "nbconvert_exporter": "python",
   "pygments_lexer": "ipython3",
   "version": "3.9.6"
  }
 },
 "nbformat": 4,
 "nbformat_minor": 2
}
