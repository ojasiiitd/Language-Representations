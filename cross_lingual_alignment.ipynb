{
 "cells": [
  {
   "cell_type": "code",
   "execution_count": 1,
   "metadata": {},
   "outputs": [
    {
     "data": {
      "text/plain": [
       "<module 'precog_utils' from '/Users/ojasvasaxena/Desktop/Research/Precog_Hiring/precog_utils.py'>"
      ]
     },
     "execution_count": 1,
     "metadata": {},
     "output_type": "execute_result"
    }
   ],
   "source": [
    "import io\n",
    "import importlib\n",
    "import numpy as np\n",
    "from collections import Counter\n",
    "from tqdm import tqdm\n",
    "import precog_utils\n",
    "\n",
    "importlib.reload(precog_utils)"
   ]
  },
  {
   "cell_type": "markdown",
   "metadata": {},
   "source": [
    "### Loading FastText English and Hindi Embeddings\n",
    "* Downloaded embeddings (text) from [here](https://fasttext.cc/docs/en/crawl-vectors.html).\n",
    "* Testing the `get_fasttext_embedding` function (returns the embedding of `<UNK>` token if the word is not )"
   ]
  },
  {
   "cell_type": "code",
   "execution_count": 2,
   "metadata": {},
   "outputs": [],
   "source": [
    "def load_vectors(fname):\n",
    "    fin = io.open(fname, 'r', encoding='utf-8', newline='\\n', errors='ignore')\n",
    "    n, d = map(int, fin.readline().split())  # header (vocab size, dim)\n",
    "    data = {}\n",
    "    for line in fin:\n",
    "        tokens = line.rstrip().split(' ')\n",
    "        # convert to numpy array\n",
    "        data[tokens[0]] = np.array(list(map(float , tokens[1:])))\n",
    "    return data\n",
    "\n",
    "# load embeddings\n",
    "fasttext_en = load_vectors(\"Embeddings/fasttext_en.vec\")  # English FastText .vec file\n",
    "fasttext_hi = load_vectors(\"Embeddings/fasttext_hi.vec\")  # Hindi FastText .vec file"
   ]
  },
  {
   "cell_type": "markdown",
   "metadata": {},
   "source": [
    "Even though, 'Paper' and 'कागज़' are similar words, they cosine similarity does not catch it yet - as they lie unaligned in the same vector space"
   ]
  },
  {
   "cell_type": "code",
   "execution_count": 3,
   "metadata": {},
   "outputs": [
    {
     "name": "stdout",
     "output_type": "stream",
     "text": [
      "-0.0134\n"
     ]
    }
   ],
   "source": [
    "w1_en = precog_utils.get_fasttext_embedding(\"paper\" , fasttext_en)\n",
    "w1_hi = precog_utils.get_fasttext_embedding(\"कागज़\" , fasttext_hi)\n",
    "\n",
    "print(f\"{precog_utils.cosine_similarity(w1_en , w1_hi):.4f}\") # similar words, but dissimilar in the vector space"
   ]
  },
  {
   "cell_type": "markdown",
   "metadata": {},
   "source": [
    "### Bilingual Dictionary\n",
    "**Reading from our Bilingual Dictionary, created using the help of the oracle of downstream tasks... ChatGPT!**\n",
    "* I'll be performing Word-Level alignment for this task, as it is simpler and does not require contextual knowledge.\n",
    "* So, my bilingual dictionary contains `(hindi word , english word)` pairs"
   ]
  },
  {
   "cell_type": "code",
   "execution_count": 4,
   "metadata": {},
   "outputs": [
    {
     "data": {
      "text/html": [
       "<div>\n",
       "<style scoped>\n",
       "    .dataframe tbody tr th:only-of-type {\n",
       "        vertical-align: middle;\n",
       "    }\n",
       "\n",
       "    .dataframe tbody tr th {\n",
       "        vertical-align: top;\n",
       "    }\n",
       "\n",
       "    .dataframe thead th {\n",
       "        text-align: right;\n",
       "    }\n",
       "</style>\n",
       "<table border=\"1\" class=\"dataframe\">\n",
       "  <thead>\n",
       "    <tr style=\"text-align: right;\">\n",
       "      <th></th>\n",
       "      <th>token_hi</th>\n",
       "      <th>token_en</th>\n",
       "    </tr>\n",
       "  </thead>\n",
       "  <tbody>\n",
       "    <tr>\n",
       "      <th>0</th>\n",
       "      <td>पूनिया</td>\n",
       "      <td>Poonia</td>\n",
       "    </tr>\n",
       "    <tr>\n",
       "      <th>1</th>\n",
       "      <td>यूएचएफ</td>\n",
       "      <td>UHF</td>\n",
       "    </tr>\n",
       "    <tr>\n",
       "      <th>2</th>\n",
       "      <td>स्वशिक्षा</td>\n",
       "      <td>self-education</td>\n",
       "    </tr>\n",
       "    <tr>\n",
       "      <th>3</th>\n",
       "      <td>ढेले</td>\n",
       "      <td>lumps</td>\n",
       "    </tr>\n",
       "    <tr>\n",
       "      <th>4</th>\n",
       "      <td>नियो</td>\n",
       "      <td>Nio</td>\n",
       "    </tr>\n",
       "    <tr>\n",
       "      <th>...</th>\n",
       "      <td>...</td>\n",
       "      <td>...</td>\n",
       "    </tr>\n",
       "    <tr>\n",
       "      <th>4473</th>\n",
       "      <td>अमूर्त</td>\n",
       "      <td>abstract</td>\n",
       "    </tr>\n",
       "    <tr>\n",
       "      <th>4474</th>\n",
       "      <td>भीमबैठका</td>\n",
       "      <td>Bhimbetka</td>\n",
       "    </tr>\n",
       "    <tr>\n",
       "      <th>4475</th>\n",
       "      <td>पैरिश</td>\n",
       "      <td>parish</td>\n",
       "    </tr>\n",
       "    <tr>\n",
       "      <th>4476</th>\n",
       "      <td>नैटी</td>\n",
       "      <td>Nettie</td>\n",
       "    </tr>\n",
       "    <tr>\n",
       "      <th>4477</th>\n",
       "      <td>साथे</td>\n",
       "      <td>together</td>\n",
       "    </tr>\n",
       "  </tbody>\n",
       "</table>\n",
       "<p>4478 rows × 2 columns</p>\n",
       "</div>"
      ],
      "text/plain": [
       "       token_hi          token_en\n",
       "0        पूनिया          Poonia  \n",
       "1        यूएचएफ             UHF  \n",
       "2     स्वशिक्षा  self-education  \n",
       "3          ढेले           lumps  \n",
       "4          नियो             Nio  \n",
       "...         ...               ...\n",
       "4473     अमूर्त          abstract\n",
       "4474   भीमबैठका         Bhimbetka\n",
       "4475      पैरिश            parish\n",
       "4476       नैटी            Nettie\n",
       "4477       साथे          together\n",
       "\n",
       "[4478 rows x 2 columns]"
      ]
     },
     "execution_count": 4,
     "metadata": {},
     "output_type": "execute_result"
    }
   ],
   "source": [
    "import pandas as pd\n",
    "\n",
    "bilingual_df = pd.read_csv(\"Corpora/bilingual_dict_chatgpt.csv\")\n",
    "bilingual_df"
   ]
  },
  {
   "cell_type": "markdown",
   "metadata": {},
   "source": [
    "### Setting up inputs and outputs for Linear Transformatoin and Neural Network to learn the transformation\n",
    "* Input Matrix: `X` are the Hindi FastText Embeddings from the training set\n",
    "* Output Matrix (Target): `Y` are the corresponding English FastText Embeddings\n",
    "* Both are `(num_words)x300` dimensional vectors, which are converted to tensors\n",
    "* `get_matrix_tensors` will retrun the matrix in list of lists format (X,Y) [for LT] and in tensors format (X_tensor , Y_tensor) [for NN]"
   ]
  },
  {
   "cell_type": "code",
   "execution_count": 5,
   "metadata": {},
   "outputs": [],
   "source": [
    "import torch\n",
    "import torch.nn as nn\n",
    "import torch.optim as optim\n",
    "torch.manual_seed(392)\n",
    "torch.cuda.manual_seed(392)\n",
    "torch.cuda.manual_seed_all(392)\n",
    "\n",
    "def get_matrix_tensors():\n",
    "    # hindi embedding matrix\n",
    "    X = []\n",
    "    for token_hi in bilingual_df['token_hi']:\n",
    "        X.append(precog_utils.get_fasttext_embedding(token_hi , fasttext_hi))\n",
    "\n",
    "    # english embedding matrix\n",
    "    Y = []\n",
    "    for token_en in bilingual_df['token_en']:\n",
    "        Y.append(precog_utils.get_fasttext_embedding(token_en , fasttext_en))\n",
    "\n",
    "    X_tensor = torch.tensor(X)\n",
    "    Y_tensor = torch.tensor(Y)\n",
    "\n",
    "    return X , Y , X_tensor , Y_tensor"
   ]
  },
  {
   "cell_type": "markdown",
   "metadata": {},
   "source": [
    "### Linear Transformation Method : Procrustes Analysis\n",
    "* Procrustes Analysis involves calculating a Linear Transformation based on the parallel embedding matrices: X and Y\n",
    "* By solving for the transformation `W`, we can map one set of datapoints `X` to another `Y`. This is exactly what I need, with `X` being a source language (Hindi) and `Y` being a target language (English).\n",
    "* This is essentially an optimization based on the least sqaures error between the transformed X, and the target Y.\n",
    "* The operations performed by `W` only involve translations, rotations and scaling.\n",
    "```math\n",
    "W = \\arg\\min_W ||WX - Y||^2\n",
    "```\n",
    "```math\n",
    "W = YX^\\top (XX^\\top)^{-1}\n",
    "```"
   ]
  },
  {
   "cell_type": "code",
   "execution_count": 6,
   "metadata": {},
   "outputs": [
    {
     "name": "stderr",
     "output_type": "stream",
     "text": [
      "/var/folders/jl/d933gx354rxgr_msxkqnkc8m0000gp/T/ipykernel_11839/1890879671.py:19: UserWarning: Creating a tensor from a list of numpy.ndarrays is extremely slow. Please consider converting the list to a single numpy.ndarray with numpy.array() before converting to a tensor. (Triggered internally at /Users/runner/work/pytorch/pytorch/pytorch/torch/csrc/utils/tensor_new.cpp:257.)\n",
      "  X_tensor = torch.tensor(X)\n"
     ]
    }
   ],
   "source": [
    "# X,Y matrices will be used for Procrusted Transformation\n",
    "# X_tensor , Y_tensor will be used later for the Neural Network\n",
    "\n",
    "X , Y , X_tensor , Y_tensor = get_matrix_tensors()"
   ]
  },
  {
   "cell_type": "code",
   "execution_count": 7,
   "metadata": {},
   "outputs": [
    {
     "name": "stdout",
     "output_type": "stream",
     "text": [
      "Training Set: 4030\n",
      "Testing Set: 448\n"
     ]
    }
   ],
   "source": [
    "from sklearn.model_selection import train_test_split\n",
    "\n",
    "test_size = 0.1\n",
    "\n",
    "X_train, X_test, Y_train, Y_test = train_test_split(X , Y , test_size=test_size, random_state=42)\n",
    "\n",
    "print(f\"Training Set: {len(X_train)}\")\n",
    "print(f\"Testing Set: {len(X_test)}\")"
   ]
  },
  {
   "cell_type": "code",
   "execution_count": 68,
   "metadata": {},
   "outputs": [],
   "source": [
    "def procrustes(X , Y):\n",
    "    # shifts the data so that mean is zero\n",
    "    X_centered = X - np.mean(X, axis=0)\n",
    "    Y_centered = Y - np.mean(Y, axis=0)\n",
    "    \n",
    "    W = np.linalg.inv(X_centered.T @ X_centered) @ (X_centered.T @ Y_centered)\n",
    "\n",
    "    return W"
   ]
  },
  {
   "cell_type": "code",
   "execution_count": 67,
   "metadata": {},
   "outputs": [],
   "source": [
    "W_procrustes = procrustes(X_train , Y_train) # finding the procrustes transformation for the training data"
   ]
  },
  {
   "cell_type": "markdown",
   "metadata": {},
   "source": [
    "### Visualizing the transformation\n",
    "* I notice a \"squishing\" of the hindi embedding space (in 2D) giving us a hint of what the Procrustes transformation might be doing."
   ]
  },
  {
   "cell_type": "code",
   "execution_count": 74,
   "metadata": {},
   "outputs": [
    {
     "data": {
      "image/png": "[encoded data removed]",
      "text/plain": [
       "<Figure size 800x600 with 1 Axes>"
      ]
     },
     "metadata": {},
     "output_type": "display_data"
    }
   ],
   "source": [
    "import matplotlib.pyplot as plt\n",
    "from sklearn.decomposition import PCA\n",
    "\n",
    "uptil = 1000\n",
    "\n",
    "X_transformed = X_train[:uptil] @ W_procrustes\n",
    "\n",
    "# PCA for 2D visualizations\n",
    "pca = PCA(n_components=2)\n",
    "X_reduced = pca.fit_transform(X_train[:uptil])\n",
    "X_transformed_reduced = pca.transform(X_transformed)\n",
    "Y_reduced = pca.transform(Y)\n",
    "\n",
    "# plotting the visualization\n",
    "plt.figure(figsize=(8, 6))\n",
    "plt.scatter(X_reduced[:uptil, 0], X_reduced[:uptil, 1], c='blue', marker='o', label='Hindi Embeddings', s=20)\n",
    "plt.scatter(Y_reduced[:uptil, 0], Y_reduced[:uptil, 1], c='red', marker='o', label='English Embeddings', s=20)\n",
    "plt.scatter(X_transformed_reduced[:uptil, 0], X_transformed_reduced[:uptil, 1], c='green', marker='o', label='Transformed Hindi Embeddings', s=20)\n",
    "plt.title('Procrustes Analysis Visualization (PCA)')\n",
    "plt.legend()\n",
    "plt.xlabel('Principal Component 1')\n",
    "plt.ylabel('Principal Component 2')\n",
    "plt.show()"
   ]
  },
  {
   "cell_type": "markdown",
   "metadata": {},
   "source": [
    "### Manually assessing the similarity of the alignment\n",
    "* It's very cool how a simple linear transformation `(O(1)) complexity` is able to get accurate translations post-alignment!\n",
    "* The outputs are deterministic - literal translation"
   ]
  },
  {
   "cell_type": "code",
   "execution_count": 204,
   "metadata": {},
   "outputs": [
    {
     "name": "stdout",
     "output_type": "stream",
     "text": [
      "[LINEAR TRANSFORMATION] Aligned to 'दोस्ती' :\n",
      "feelings, friendships, relationship, friendship, life, relationships, affairs, society, finances, ways, "
     ]
    }
   ],
   "source": [
    "hindi_token = \"दोस्ती\"\n",
    "hindi_token_vec = precog_utils.get_fasttext_embedding(hindi_token , fasttext_hi)\n",
    "\n",
    "# apply the W transformation after centering\n",
    "hindi_aligned = (hindi_token_vec - np.mean(hindi_token_vec)) @ W_procrustes\n",
    "\n",
    "# finding the closest English word\n",
    "similar_words = precog_utils.similar_embedding_words(fasttext_en, hindi_aligned, topn=10)\n",
    "print(f\"[LINEAR TRANSFORMATION] Aligned to '{hindi_token}' :\")\n",
    "for w in similar_words:\n",
    "    print(w , end=\", \")"
   ]
  },
  {
   "cell_type": "markdown",
   "metadata": {},
   "source": [
    "### Is the opposite true? Does `inv(W)` align English to Hindi??"
   ]
  },
  {
   "cell_type": "code",
   "execution_count": 227,
   "metadata": {},
   "outputs": [
    {
     "name": "stdout",
     "output_type": "stream",
     "text": [
      "[LINEAR TRANSFORMATION] Inversely Aligned to 'river' :\n",
      "करवाकर, फेक, कैनल, दाएँ, ऐटिक, मेटिक, फ़ास्ट, स्वीडिश, मेट्री, बाएँ, कृत्रिम, हंग, अंडर, फ़ॉर, ग्लाइड, रूमेटिक, चुनी, नेत्रिका, तंत्रिका, फ़ासिस्ट, तस्वीर, लिन, नामक, नाइन, बाए, लाइफ़, डेथ, कराई।, जिका, करवायी, जिप्सी, ग्लव्स, बिग, स्किड, फेको, अंगूठाकार, बाइ, अंड, ज़रिए, स्वीट, स्वीडेन, यूरिन, कामयाबी, बैलिस्टिक, रक्ताधान, कैनबिस, चु, करवाई।, फेयर, ताकत, "
     ]
    }
   ],
   "source": [
    "english_token = \"river\"\n",
    "english_token_vec = precog_utils.get_fasttext_embedding(english_token , fasttext_en)\n",
    "\n",
    "# apply the W transformation after centering\n",
    "english_aligned = (english_token_vec - np.mean(english_token_vec)) @ np.linalg.inv(W_procrustes)\n",
    "\n",
    "# finding the closest English word\n",
    "similar_words_inv = precog_utils.similar_embedding_words(fasttext_hi, english_aligned, topn=50)\n",
    "print(f\"[LINEAR TRANSFORMATION] Inversely Aligned to '{english_token}' :\")\n",
    "for w in similar_words_inv:\n",
    "    print(w , end=\", \")"
   ]
  },
  {
   "cell_type": "code",
   "execution_count": null,
   "metadata": {},
   "outputs": [],
   "source": [
    "def procrustes(X , Y):\n",
    "    # shifts the data so that mean is zero\n",
    "    X_centered = X - np.mean(X, axis=0)\n",
    "    Y_centered = Y - np.mean(Y, axis=0)\n",
    "    \n",
    "    W = np.linalg.inv(X_centered.T @ X_centered) @ (X_centered.T @ Y_centered)\n",
    "\n",
    "    return W"
   ]
  },
  {
   "cell_type": "markdown",
   "metadata": {},
   "source": [
    "### Evaluating the results based on Y_test (cosine similarity)\n",
    "* Final cosine similarity score is the mean across Y_test\n",
    "* Final Mean Cosine Similarity Score = 0.3962"
   ]
  },
  {
   "cell_type": "code",
   "execution_count": 12,
   "metadata": {},
   "outputs": [
    {
     "name": "stderr",
     "output_type": "stream",
     "text": [
      "448it [19:06,  2.56s/it] "
     ]
    },
    {
     "name": "stdout",
     "output_type": "stream",
     "text": [
      "[LINEAR TRANSFORMATION]\n",
      "Mean Similarity Score (top 5 aligned words) = 0.3962\n"
     ]
    },
    {
     "name": "stderr",
     "output_type": "stream",
     "text": [
      "\n"
     ]
    }
   ],
   "source": [
    "eval_test_similarities_LT = []\n",
    "\n",
    "# iterating through test hindi embeddings\n",
    "for idx,eval_hindi_token_vec in tqdm(enumerate(X_test)):\n",
    "    truth_target =  Y_test[idx]\n",
    "\n",
    "    eval_hindi_aligned = (eval_hindi_token_vec - np.mean(eval_hindi_token_vec)) @ W_procrustes\n",
    "    eval_similar_words = precog_utils.similar_embedding_words(fasttext_en, eval_hindi_aligned, topn=5)\n",
    "\n",
    "    topn_similarity = []\n",
    "    for sim_w in eval_similar_words:\n",
    "        sim_w_embedding = precog_utils.get_fasttext_embedding(sim_w , fasttext_en)\n",
    "        cur_sim = precog_utils.cosine_similarity(sim_w_embedding , truth_target)\n",
    "        # print(cur_sim)\n",
    "        topn_similarity.append(cur_sim)\n",
    "    eval_test_similarities_LT.append(np.mean(topn_similarity))\n",
    "\n",
    "print(\"[LINEAR TRANSFORMATION]\")\n",
    "print(f\"Mean Similarity Score (top 5 aligned words) = {np.mean(eval_test_similarities_LT):.4f}\")"
   ]
  },
  {
   "cell_type": "markdown",
   "metadata": {},
   "source": [
    "### Evaluating the results based on Y_test (l2 norm)\n",
    "* Final col2 norm is the mean across Y_test\n",
    "* Final Mean L2 Norm ~ 2.3646"
   ]
  },
  {
   "cell_type": "code",
   "execution_count": 82,
   "metadata": {},
   "outputs": [
    {
     "name": "stderr",
     "output_type": "stream",
     "text": [
      "448it [08:52,  1.19s/it]"
     ]
    },
    {
     "name": "stdout",
     "output_type": "stream",
     "text": [
      "[LINEAR TRANSFORMATION]\n",
      "Mean Similarity Score (top 5 aligned words) = 2.3646\n"
     ]
    },
    {
     "name": "stderr",
     "output_type": "stream",
     "text": [
      "\n"
     ]
    }
   ],
   "source": [
    "eval_test_similarities_LT = []\n",
    "\n",
    "# iterating through test hindi embeddings\n",
    "for idx,eval_hindi_token_vec in tqdm(enumerate(X_test)):\n",
    "    truth_target =  Y_test[idx]\n",
    "\n",
    "    eval_hindi_aligned = (eval_hindi_token_vec - np.mean(eval_hindi_token_vec)) @ W_procrustes\n",
    "    eval_similar_words = precog_utils.similar_embedding_words(fasttext_en, eval_hindi_aligned, topn=5)\n",
    "\n",
    "    topn_similarity = []\n",
    "    for sim_w in eval_similar_words:\n",
    "        sim_w_embedding = precog_utils.get_fasttext_embedding(sim_w , fasttext_en)\n",
    "        cur_sim = np.linalg.norm(sim_w_embedding - truth_target)\n",
    "        # print(cur_sim)\n",
    "        topn_similarity.append(cur_sim)\n",
    "    eval_test_similarities_LT.append(np.mean(topn_similarity))\n",
    "\n",
    "print(\"[LINEAR TRANSFORMATION]\")\n",
    "print(f\"Mean Similarity Score (top 5 aligned words) = {np.mean(eval_test_similarities_LT):.4f}\")"
   ]
  },
  {
   "cell_type": "markdown",
   "metadata": {},
   "source": [
    "### Learning an alignment using a Feed Forward Neural Network\n",
    "* Although the Procrustes Analysis gives good results, I also attempt to learn potential complex transformations using a Feed Forward Neural Network.\n",
    "* Might learn non-linear decision boundaries, handling outliers better.\n",
    "* I can also use regularization techniques, which might make the translations generalize better."
   ]
  },
  {
   "cell_type": "markdown",
   "metadata": {},
   "source": [
    "Creating copies of the full embedding tensors (Hindi and English) and getting the training and testing tensors for training/evaluating."
   ]
  },
  {
   "cell_type": "code",
   "execution_count": 16,
   "metadata": {},
   "outputs": [],
   "source": [
    "import copy\n",
    "\n",
    "X_tensor_copy = copy.deepcopy(X_tensor)\n",
    "Y_tensor_copy = copy.deepcopy(Y_tensor)"
   ]
  },
  {
   "cell_type": "code",
   "execution_count": 17,
   "metadata": {},
   "outputs": [
    {
     "name": "stdout",
     "output_type": "stream",
     "text": [
      "Training Set: 4030\n",
      "Testing Set: 448\n"
     ]
    }
   ],
   "source": [
    "X_NN_train, X_NN_test, Y_NN_train, Y_NN_test = train_test_split(X_tensor_copy.clone().detach().type(torch.float32) , Y_tensor_copy.clone().detach().type(torch.float32) , test_size=test_size, random_state=42)\n",
    "\n",
    "print(f\"Training Set: {len(X_NN_train)}\")\n",
    "print(f\"Testing Set: {len(X_NN_test)}\")"
   ]
  },
  {
   "cell_type": "markdown",
   "metadata": {},
   "source": [
    "### Building and Training the Neural Network :\n",
    "**Model Architechture**\n",
    ">**Input: Hindi Word Embedding (300D)**\n",
    "↓  \n",
    "**Linear Layer** (300 → 512)  \n",
    "↓  \n",
    "**GELU Activation**  \n",
    "↓  \n",
    "**Dropout** (10%)  \n",
    "↓  \n",
    "**Linear Layer** (512 → 512)  \n",
    "↓  \n",
    "**GELU Activation**  \n",
    "↓  \n",
    "**Dropout** (10%)  \n",
    "↓  \n",
    "**Linear Layer** (512 → 300)  \n",
    "↓  \n",
    "**Output: Predicted Embedding Logits (300D)**\n",
    "**Loss Function:** Cosine Similarity with true English embedding\n",
    "\n",
    "* Training data comes from the bilingual dictionary: with Hindi Embeddings as input and their corresponding English Embeddings as target values.\n",
    "* Loss function returns the `-(Cosine Similarity / L2 Norm + ε)` (OVM INDEX) between predicted logits and the true English embeddings. The -ve is introduced as we need to maximize this value for a good model. In addition to this, I have used the Adam optimizer with a learning rate of 0.003.\n",
    "* Epochs is set to 1000."
   ]
  },
  {
   "cell_type": "code",
   "execution_count": 174,
   "metadata": {},
   "outputs": [
    {
     "name": "stdout",
     "output_type": "stream",
     "text": [
      "Epoch 0: Loss = 0.00470\n",
      "Epoch 50: Loss = -0.35119\n",
      "Epoch 100: Loss = -0.40266\n",
      "Epoch 150: Loss = -0.42829\n",
      "Epoch 200: Loss = -0.45939\n",
      "Epoch 250: Loss = -0.49474\n",
      "Epoch 300: Loss = -0.52431\n",
      "Epoch 350: Loss = -0.56067\n",
      "Epoch 400: Loss = -0.58957\n",
      "Epoch 450: Loss = -0.61998\n",
      "Epoch 500: Loss = -0.64795\n",
      "Epoch 550: Loss = -0.67206\n",
      "Epoch 600: Loss = -0.69136\n",
      "Epoch 650: Loss = -0.70688\n",
      "Epoch 700: Loss = -0.72245\n",
      "Epoch 750: Loss = -0.73547\n",
      "Epoch 800: Loss = -0.75304\n",
      "Epoch 850: Loss = -0.75953\n",
      "Epoch 900: Loss = -0.77049\n",
      "Epoch 950: Loss = -0.77985\n",
      "Epoch 1000: Loss = -0.79116\n"
     ]
    }
   ],
   "source": [
    "import torch\n",
    "import torch.nn as nn\n",
    "import torch.optim as optim\n",
    "import torch.functional as F\n",
    "torch.manual_seed(392)\n",
    "\n",
    "# arch for a non-linear alignment\n",
    "class EmbeddingMapper(nn.Module):\n",
    "    def __init__(self, input_dim, hidden_dim , output_dim):\n",
    "        super(EmbeddingMapper, self).__init__()\n",
    "\n",
    "        # model architechture\n",
    "        # input -> linear + GELU -> dropout 10% \n",
    "        # -> linear + GELU -> dropout 10% -> output logits\n",
    "\n",
    "        self.model = nn.Sequential(\n",
    "            nn.Linear(input_dim, hidden_dim),\n",
    "            nn.GELU(),\n",
    "            nn.Dropout(p=0.1),\n",
    "            nn.Linear(hidden_dim, hidden_dim),\n",
    "            nn.GELU(),\n",
    "            nn.Dropout(p=0.1),\n",
    "            nn.Linear(hidden_dim, output_dim)\n",
    "        )\n",
    "\n",
    "\n",
    "    def forward(self, x):\n",
    "        return self.model(x)\n",
    "\n",
    "# initializing - input/output embedding dims = 300\n",
    "input_dim = 300\n",
    "output_dim = 300\n",
    "hidden_dim = 512\n",
    "epochs = 1000\n",
    "learning_rate = 0.003\n",
    "\n",
    "cross_linguistic_aligner = EmbeddingMapper(input_dim, hidden_dim, output_dim)\n",
    "\n",
    "# cosine similarity loss function\n",
    "def loss_fxn(pred, target):\n",
    "    cosine_sim = precog_utils.batch_cosine_similarity(pred , target).mean()\n",
    "    l2_norm = torch.norm(pred - target, dim=-1).mean()\n",
    "    return -(cosine_sim / (l2_norm + 1e-8))  # added epsilon\n",
    "\n",
    "# adam optimizer\n",
    "optimizer = optim.Adam(cross_linguistic_aligner.parameters(), lr=learning_rate)\n",
    "\n",
    "# training loop\n",
    "for epoch in range(epochs+1):\n",
    "    hindi_embedding = X_NN_train\n",
    "    english_embedding = Y_NN_train\n",
    "\n",
    "    optimizer.zero_grad()\n",
    "    output = cross_linguistic_aligner(hindi_embedding)\n",
    "    loss = loss_fxn(output , english_embedding)\n",
    "    loss.backward()\n",
    "    optimizer.step()\n",
    "\n",
    "    if epoch % 50 == 0:\n",
    "        print(f\"Epoch {epoch}: Loss = {loss.item():.5f}\")"
   ]
  },
  {
   "cell_type": "markdown",
   "metadata": {},
   "source": [
    "### Functions to predict logits for :\n",
    "* `pred_logits` ouputs predicted English embeddings for a Hindi Word\n",
    "* `pred_logits_embedding` ouputs predicted English embeddings for a Hindi Embedding"
   ]
  },
  {
   "cell_type": "code",
   "execution_count": 175,
   "metadata": {},
   "outputs": [],
   "source": [
    "# get output logits (predicted English embedding) through NN input is the hindi word\n",
    "def pred_logits(hindi_word, fasttext_hi, model):\n",
    "    hindi_embedding = precog_utils.get_fasttext_embedding(hindi_word , fasttext_hi)\n",
    "    hindi_embedding = torch.tensor(hindi_embedding , dtype=torch.float32).reshape(1 , -1)\n",
    "    \n",
    "    # get o/p logits\n",
    "    with torch.no_grad():\n",
    "        pred_logits = model(hindi_embedding)\n",
    "\n",
    "    return pred_logits.squeeze(0).numpy()\n",
    "\n",
    "\n",
    "# get output logits (predicted English embedding) through NN input is the hindi embedding\n",
    "def pred_logits_embedding(hindi_embedding, fasttext_hi, model):\n",
    "    hindi_embedding = hindi_embedding.clone().detach().type(torch.float32).reshape(1 , -1)\n",
    "    \n",
    "    # get o/p logits\n",
    "    with torch.no_grad():\n",
    "        pred_logits = model(hindi_embedding)\n",
    "\n",
    "    return pred_logits.squeeze(0).numpy()"
   ]
  },
  {
   "cell_type": "markdown",
   "metadata": {},
   "source": [
    "### Manually assessing the similarity of the alignment\n",
    "* It's also very cool how a neural network is also able learn translations post-alignment!\n",
    "* The outputs are stochastic - transcreation with some creativity"
   ]
  },
  {
   "cell_type": "code",
   "execution_count": 202,
   "metadata": {},
   "outputs": [
    {
     "name": "stdout",
     "output_type": "stream",
     "text": [
      "[NEURAL NETWORK] Aligned to 'दोस्ती' :\n",
      "friendship, friends, friendships, relationship, friend, lovers, sisters, relationships, intimacy, house, "
     ]
    }
   ],
   "source": [
    "hindi_word = \"दोस्ती\"\n",
    "predicted_embedding = pred_logits(hindi_word , fasttext_hi , cross_linguistic_aligner)\n",
    "\n",
    "# closest English embedding (cosine similarity)\n",
    "similar_words = precog_utils.similar_embedding_words(fasttext_en, predicted_embedding, topn=10)\n",
    "print(f\"[NEURAL NETWORK] Aligned to '{hindi_word}' :\")\n",
    "for w in similar_words:\n",
    "    print(w , end=\", \")"
   ]
  },
  {
   "cell_type": "markdown",
   "metadata": {},
   "source": [
    "### Evaluating the results based on average Y_test cosine similarity\n",
    "* Metric: Mean of top 5 most similar (to the predicted logits) English words to the actual translation in the bilingual dictionary\n",
    "* Final similarity score is the mean across Y_test\n",
    "* Final Mean Similarity Score (Procrustes Transformation) ~ 0.412\n",
    "* L2 2.2411"
   ]
  },
  {
   "cell_type": "code",
   "execution_count": 180,
   "metadata": {},
   "outputs": [
    {
     "name": "stderr",
     "output_type": "stream",
     "text": [
      "448it [08:42,  1.17s/it]"
     ]
    },
    {
     "name": "stdout",
     "output_type": "stream",
     "text": [
      "[NEURAL NETWORK]\n",
      "Mean Similarity Score (top 5 aligned words) = 0.3978\n"
     ]
    },
    {
     "name": "stderr",
     "output_type": "stream",
     "text": [
      "\n"
     ]
    }
   ],
   "source": [
    "eval_test_similarities_NN = []\n",
    "\n",
    "# iterating through test hindi embeddings\n",
    "for idx,eval_hindi_token_vec in tqdm(enumerate(X_NN_test)):\n",
    "    truth_target =  Y_NN_test[idx]\n",
    "\n",
    "    eval_predicted_embedding = pred_logits_embedding(eval_hindi_token_vec , fasttext_hi , cross_linguistic_aligner)\n",
    "    eval_similar_words = precog_utils.similar_embedding_words(fasttext_en, eval_predicted_embedding, topn=5)\n",
    "\n",
    "    # print(eval_similar_words)\n",
    "\n",
    "    topn_similarity = []\n",
    "    for sim_w in eval_similar_words:\n",
    "        sim_w_embedding = precog_utils.get_fasttext_embedding(sim_w , fasttext_en)\n",
    "        cur_sim = precog_utils.cosine_similarity(sim_w_embedding , truth_target)\n",
    "        # print(cur_sim)\n",
    "        topn_similarity.append(cur_sim)\n",
    "    eval_test_similarities_NN.append(np.mean(topn_similarity))\n",
    "    # print()\n",
    "    # if idx == 10:\n",
    "    #     break\n",
    "\n",
    "print(\"[NEURAL NETWORK]\")\n",
    "print(f\"Mean Similarity Score (top 5 aligned words) = {np.mean(eval_test_similarities_NN):.4f}\")"
   ]
  },
  {
   "cell_type": "code",
   "execution_count": 181,
   "metadata": {},
   "outputs": [
    {
     "name": "stderr",
     "output_type": "stream",
     "text": [
      "448it [08:09,  1.09s/it]"
     ]
    },
    {
     "name": "stdout",
     "output_type": "stream",
     "text": [
      "[NEURAL NETWORK]\n",
      "Mean Similarity Score (top 5 aligned words) = 2.2450\n"
     ]
    },
    {
     "name": "stderr",
     "output_type": "stream",
     "text": [
      "\n"
     ]
    }
   ],
   "source": [
    "eval_test_similarities_NN = []\n",
    "\n",
    "# iterating through test hindi embeddings\n",
    "for idx,eval_hindi_token_vec in tqdm(enumerate(X_NN_test)):\n",
    "    truth_target =  Y_NN_test[idx]\n",
    "\n",
    "    eval_predicted_embedding = pred_logits_embedding(eval_hindi_token_vec , fasttext_hi , cross_linguistic_aligner)\n",
    "    eval_similar_words = precog_utils.similar_embedding_words(fasttext_en, eval_predicted_embedding, topn=5)\n",
    "\n",
    "    # print(eval_similar_words)\n",
    "\n",
    "    topn_similarity = []\n",
    "    for sim_w in eval_similar_words:\n",
    "        sim_w_embedding = precog_utils.get_fasttext_embedding(sim_w , fasttext_en)\n",
    "        cur_sim = np.linalg.norm(sim_w_embedding - np.array(truth_target))\n",
    "        # print(cur_sim)\n",
    "        topn_similarity.append(cur_sim)\n",
    "    eval_test_similarities_NN.append(np.mean(topn_similarity))\n",
    "    # print()\n",
    "    # if idx == 10:\n",
    "    #     break\n",
    "\n",
    "print(\"[NEURAL NETWORK]\")\n",
    "print(f\"Mean Similarity Score (top 5 aligned words) = {np.mean(eval_test_similarities_NN):.4f}\")"
   ]
  },
  {
   "cell_type": "code",
   "execution_count": 205,
   "metadata": {},
   "outputs": [
    {
     "data": {
      "image/png": "[encoded data removed]",
      "text/plain": [
       "<Figure size 600x400 with 1 Axes>"
      ]
     },
     "metadata": {},
     "output_type": "display_data"
    }
   ],
   "source": [
    "def ovm_index(cs , l2):\n",
    "    return cs / (l2+1e-8)\n",
    "\n",
    "ovm_indces = [ ovm_index(0.3962 , 2.3646) , ovm_index(0.3978 , 2.2450) ]\n",
    "labels = ['Procrustes Transformation', 'Feed Forward Neural Network']\n",
    "\n",
    "plt.figure(figsize=(6, 4))\n",
    "plt.bar(labels, ovm_indces, color=['khaki', 'gold'])\n",
    "\n",
    "plt.ylabel('OVM-Index Value')\n",
    "plt.title('OCM-Index Comparison')\n",
    "plt.ylim(0, 0.4)\n",
    "\n",
    "for i, v in enumerate(ovm_indces):\n",
    "    plt.text(i, v + 0.02, f\"{v:.4f}\", ha='center', fontsize=12)\n",
    "\n",
    "plt.show()"
   ]
  },
  {
   "cell_type": "code",
   "execution_count": null,
   "metadata": {},
   "outputs": [],
   "source": []
  }
 ],
 "metadata": {
  "kernelspec": {
   "display_name": "researchenv",
   "language": "python",
   "name": "python3"
  },
  "language_info": {
   "codemirror_mode": {
    "name": "ipython",
    "version": 3
   },
   "file_extension": ".py",
   "mimetype": "text/x-python",
   "name": "python",
   "nbconvert_exporter": "python",
   "pygments_lexer": "ipython3",
   "version": "3.9.6"
  }
 },
 "nbformat": 4,
 "nbformat_minor": 2
}
